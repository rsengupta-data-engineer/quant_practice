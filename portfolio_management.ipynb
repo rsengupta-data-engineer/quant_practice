{
 "cells": [
  {
   "cell_type": "markdown",
   "id": "6e14b773",
   "metadata": {},
   "source": [
    "# Measure of Return and risk\n"
   ]
  },
  {
   "cell_type": "markdown",
   "id": "1d680c9c",
   "metadata": {},
   "source": [
    "### Measures of historical rates of return\n"
   ]
  },
  {
   "cell_type": "code",
   "execution_count": 2,
   "id": "a7fe8bc6",
   "metadata": {},
   "outputs": [
    {
     "name": "stdout",
     "output_type": "stream",
     "text": [
      "Holding period return:: 1.1\n",
      "HPY::0.10000000000000009\n"
     ]
    }
   ],
   "source": [
    "end_value = 220\n",
    "begin_value = 200\n",
    "\n",
    "hpr =end_value/begin_value\n",
    "print(f'Holding period return:: {hpr}')\n",
    "\n",
    "\n",
    "print(f'HPY::{hpr-1}')\n"
   ]
  },
  {
   "cell_type": "markdown",
   "id": "f06b7b67",
   "metadata": {},
   "source": [
    "### Computing mean historical returns"
   ]
  },
  {
   "cell_type": "code",
   "execution_count": 8,
   "id": "ca24f181",
   "metadata": {},
   "outputs": [
    {
     "name": "stdout",
     "output_type": "stream",
     "text": [
      "   time  begin_value  end_value       hpr       hpy\n",
      "0     1          100        115  1.150000  0.150000\n",
      "1     2          115        138  1.200000  0.200000\n",
      "2     3          138        110  0.797101 -0.202899\n",
      "Arithmatic mean::0.049033816425120724  \n",
      "Geometric Mean::0.03228011545636722\n"
     ]
    }
   ],
   "source": [
    "import numpy as np\n",
    "import pandas as pd\n",
    "import math\n",
    "def gm(x):\n",
    "    result = 1\n",
    "    num = len(x)\n",
    "    for i in x:\n",
    "        result = result*i\n",
    "    return math.pow(result,(1/num))-1 \n",
    "\n",
    "\n",
    "data = {'time':[1,2,3],'begin_value':[100,115,138],'end_value':[115,138,110]}\n",
    "df = pd.DataFrame(data)\n",
    "df['hpr'] = df['end_value']/df['begin_value']\n",
    "df['hpy'] =  df['hpr'] - 1.0\n",
    "print(df.head())\n",
    "print(f'Arithmatic mean::{df['hpy'].sum()/len(df)}  ')\n",
    "print(f'Geometric Mean::{gm(df['hpr'])}')\n",
    "\n"
   ]
  }
 ],
 "metadata": {
  "kernelspec": {
   "display_name": "Python 3",
   "language": "python",
   "name": "python3"
  },
  "language_info": {
   "codemirror_mode": {
    "name": "ipython",
    "version": 3
   },
   "file_extension": ".py",
   "mimetype": "text/x-python",
   "name": "python",
   "nbconvert_exporter": "python",
   "pygments_lexer": "ipython3",
   "version": "3.12.1"
  }
 },
 "nbformat": 4,
 "nbformat_minor": 5
}
